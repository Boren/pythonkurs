{
 "cells": [
  {
   "cell_type": "markdown",
   "metadata": {
    "pycharm": {}
   },
   "source": [
    "# Geometri\n",
    "Vi skal jobbe med biblioteket som heter `Shapely` som er et åpent bibliotek for manipulering og analyse av geometri.\n",
    "Biblioteket er her ferdig installert, men må i egen python installasjon manuelt."
   ]
  },
  {
   "cell_type": "markdown",
   "metadata": {},
   "source": [
    "Vi har lagd noen hjelpefunksjoner slik at det blir lettere. Kjør ruten under så får du tilgang til de senere"
   ]
  },
  {
   "cell_type": "code",
   "execution_count": null,
   "metadata": {
    "pycharm": {
     "metadata": false,
     "name": "#%%\n"
    }
   },
   "outputs": [],
   "source": [
    "%matplotlib inline\n",
    "\n",
    "from typing import List\n",
    "\n",
    "from matplotlib import pyplot as plt\n",
    "from shapely.geometry import Point\n",
    "\n",
    "\n",
    "def plot_punkt(punkt: Point):\n",
    "    \"\"\"\n",
    "    Plot et enkelt punkt på en graf\n",
    "    \"\"\"\n",
    "    fig = plt.figure(1, figsize=(5, 5), dpi=90)\n",
    "    ax = fig.add_subplot(111)\n",
    "    ax.scatter(punkt.x, punkt.y)\n",
    "    ax.set_title('Punkt')\n",
    "\n",
    "\n",
    "def plot_punkter(punkter: List[Point]):\n",
    "    \"\"\"\n",
    "    Plot flere punkter på samme plot\n",
    "    \"\"\"\n",
    "    x = [punkt.x for punkt in punkter]\n",
    "    y = [punkt.y for punkt in punkter]\n",
    "    fig = plt.figure(1, figsize=(5, 5), dpi=90)\n",
    "    ax = fig.add_subplot(111)\n",
    "    ax.scatter(x, y)\n",
    "    ax.set_title('Punkter')\n"
   ]
  },
  {
   "cell_type": "markdown",
   "metadata": {},
   "source": [
    "For å definere et punkt lager vi et nytt `Point` objekt og lagrer objektet i en variabel slik at vi senere kan manipulere det."
   ]
  },
  {
   "cell_type": "code",
   "execution_count": null,
   "metadata": {
    "pycharm": {
     "metadata": false,
     "name": "#%%\n"
    }
   },
   "outputs": [],
   "source": []
  },
  {
   "cell_type": "markdown",
   "metadata": {},
   "source": [
    "Dersom du ønsker å se informasjon om objektet som ble opprettet kan du bruke `print()` funksjonen og sette punktobjektet som parameter"
   ]
  },
  {
   "cell_type": "code",
   "execution_count": null,
   "metadata": {},
   "outputs": [],
   "source": []
  },
  {
   "cell_type": "markdown",
   "metadata": {},
   "source": [
    "Det er veldig enkelt å plotte punkter. Vi har lagd en liten hjelpefunksjon som tar seg av oppretting av figur, valg av tittel og litt sånne småting. Denne kan du se på etterpå for å lære mer. For å bruke denne sender du enkelt punktobjektet ditt inn som parameter i funksjonen `plot_punkt()`"
   ]
  },
  {
   "cell_type": "code",
   "execution_count": null,
   "metadata": {
    "pycharm": {
     "metadata": false,
     "name": "#%%\n"
    }
   },
   "outputs": [],
   "source": []
  },
  {
   "cell_type": "markdown",
   "metadata": {},
   "source": [
    "Ett punkt er kanskje gøy, men vi kan enkelt lage så mange punkt vi bare vil!\n",
    "Lag en variabel som inneholder en tom liste.\n",
    "Deretter kan du legge til punkter i listen ved hjelp av `append` funksjonen du lærte om i forrige modul.\n",
    "\n",
    "Når lista inneholder noen punkter kan du enkelt plotte ved å sende listen som parameter inn i `plot_punkter()`"
   ]
  },
  {
   "cell_type": "code",
   "execution_count": null,
   "metadata": {
    "pycharm": {
     "metadata": false,
     "name": "#%%\n"
    }
   },
   "outputs": [],
   "source": []
  }
 ],
 "metadata": {
  "kernelspec": {
   "display_name": "Python 3",
   "language": "python",
   "name": "python3"
  },
  "language_info": {
   "codemirror_mode": {
    "name": "ipython",
    "version": 3
   },
   "file_extension": ".py",
   "mimetype": "text/x-python",
   "name": "python",
   "nbconvert_exporter": "python",
   "pygments_lexer": "ipython3",
   "version": "3.7.0"
  }
 },
 "nbformat": 4,
 "nbformat_minor": 2
}
