{
 "cells": [
  {
   "cell_type": "markdown",
   "metadata": {},
   "source": [
    "# Kart med OpenStreetMap\n",
    "## Geokoding\n",
    "Geokoding er en kjent del av GIS-hverdagen. Fordelen med Python og koding er at du kan automatisere geokoding av store datasett.\n",
    "Vi har jukset litt og forhåndlags en liten funksjon som tar seg av arbeidet. Denne bruker Geodata sin geokodingstjeneste, men det finnes flere åpne tjenester som også kan brukes."
   ]
  },
  {
   "cell_type": "code",
   "execution_count": null,
   "metadata": {},
   "outputs": [],
   "source": [
    "import requests\n",
    "\n",
    "brukernavn = \"\"\n",
    "passord = \"\"\n",
    "\n",
    "# Henter token fra ArcGIS Server\n",
    "tokenparametre = {'username': brukernavn, 'password': passord, 'f': 'pjson', 'client': 'requestip'}\n",
    "tokenforespørsel = requests.get(\"https://services.geodataonline.no/arcgis/tokens/generateToken\",\n",
    "                                params=tokenparametre)\n",
    "\n",
    "token = tokenforespørsel.json()['token']"
   ]
  },
  {
   "cell_type": "code",
   "execution_count": null,
   "metadata": {},
   "outputs": [],
   "source": [
    "def geokoding(søketekst: str, koordinatsystem = 25833):\n",
    "    \"\"\"\"\n",
    "    Geokod ved hjelp av fritekst søk\n",
    "    Standard koordinatsystem er UTM-33\n",
    "    For bruk av WGS 84 bruk ID: 4326\n",
    "    \"\"\"\n",
    "    \n",
    "    endepunkt = \"https://services.geodataonline.no/arcgis/rest/services/Geosok/GeosokLokasjon2/GeocodeServer/findAddressCandidates\"\n",
    "    parametre = {'SingleLine': søketekst, 'outSR': koordinatsystem, 'f': 'pjson', 'token': token}\n",
    "    \n",
    "    forespørsel = requests.get(endepunkt,\n",
    "                               params=parametre)\n",
    "    \n",
    "    return forespørsel.json()['candidates'][0]['location']\n",
    "\n",
    "def revers_geokoding(breddegrad, lengdegrad, koordinatsystem = 25833):\n",
    "    \"\"\"\"Revers geokod\"\"\"\n",
    "    \n",
    "    endepunkt = \"https://services.geodataonline.no/arcgis/rest/services/Geosok/GeosokLokasjon2/GeocodeServer/reverseGeocode\"\n",
    "    parametre = {'location': f\"{breddegrad}, {lengdegrad}\", 'outSR': koordinatsystem, 'f': 'pjson', 'token': token}\n",
    "    \n",
    "    forespørsel = requests.get(endepunkt,\n",
    "                               params=parametre)\n",
    "    \n",
    "    return forespørsel.json()['address']"
   ]
  },
  {
   "cell_type": "code",
   "execution_count": null,
   "metadata": {},
   "outputs": [],
   "source": []
  }
 ],
 "metadata": {
  "kernelspec": {
   "display_name": "Python 3",
   "language": "python",
   "name": "python3"
  },
  "language_info": {
   "codemirror_mode": {
    "name": "ipython",
    "version": 3
   },
   "file_extension": ".py",
   "mimetype": "text/x-python",
   "name": "python",
   "nbconvert_exporter": "python",
   "pygments_lexer": "ipython3",
   "version": "3.7.0"
  }
 },
 "nbformat": 4,
 "nbformat_minor": 2
}
